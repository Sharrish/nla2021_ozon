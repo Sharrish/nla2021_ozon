{
 "cells": [
  {
   "cell_type": "markdown",
   "metadata": {
    "slideshow": {
     "slide_type": "slide"
    }
   },
   "source": [
    "# Семинар 9\n",
    "\n",
    "##  Сдвиги для ускорения методов вычисления собственных значений"
   ]
  },
  {
   "cell_type": "markdown",
   "metadata": {
    "slideshow": {
     "slide_type": "slide"
    }
   },
   "source": [
    "## Степенной метод: напоминание\n",
    "\n",
    "- Задача поиска максимального по модулю собственного значения\n",
    "- Сходимость линейная, коэффициент $\\frac{|\\lambda_2|}{|\\lambda_1|}$\n",
    "- Может не сходиться. В каком случае?\n",
    "- Сложность пропорциональна сложности умножения матрицы на вектор"
   ]
  },
  {
   "cell_type": "markdown",
   "metadata": {
    "slideshow": {
     "slide_type": "slide"
    }
   },
   "source": [
    "## Сдвиги для ускорения сходимости степенного метода\n",
    "\n",
    "- Степенной метод \n",
    "\n",
    "\\begin{align*}\n",
    "& x_{k+1} = A x_k\\\\\n",
    "& x_{k+1} := \\frac{x_{k+1}}{\\|x_{k+1}\\|}\n",
    "\\end{align*}\n",
    "\n",
    "- Метод обратной итерации со сдвигами\n",
    "\n",
    "\\begin{align*}\n",
    "& x_{k+1} = (A - \\sigma I)^{-1} x_k\\\\\n",
    "& x_{k+1} := \\frac{x_{k+1}}{\\|x_{k+1}\\|}\n",
    "\\end{align*}\n",
    "\n",
    "- Куда сойдётся?"
   ]
  },
  {
   "cell_type": "code",
   "execution_count": 92,
   "metadata": {
    "slideshow": {
     "slide_type": "slide"
    }
   },
   "outputs": [],
   "source": [
    "import numpy as np\n",
    "import matplotlib.pyplot as plt\n",
    "%matplotlib inline\n",
    "import scipy.linalg as splin\n",
    "\n",
    "def shift_inverse_iteration(A, x0, num_iter, shift=0.):\n",
    "    x = x0.copy()\n",
    "    conv = [x]\n",
    "    n = A.shape[0]\n",
    "    for i in range(num_iter):\n",
    "        x = np.linalg.solve(A - shift * np.eye(n), x)\n",
    "        x = x / np.linalg.norm(x)\n",
    "        conv.append(x)\n",
    "    return x, conv\n",
    "\n",
    "def shift_inverse_iteration_fast(A, x0, num_iter, shift=0.):\n",
    "    x = x0.copy()\n",
    "    conv = [x]\n",
    "    n = A.shape[0]\n",
    "    lu_factor = splin.lu_factor(A - shift * np.eye(n))\n",
    "    for i in range(num_iter):\n",
    "        x = splin.lu_solve(lu_factor, x)\n",
    "        x = x / np.linalg.norm(x)\n",
    "        conv.append(x)\n",
    "    return x, conv"
   ]
  },
  {
   "cell_type": "code",
   "execution_count": 95,
   "metadata": {
    "slideshow": {
     "slide_type": "slide"
    }
   },
   "outputs": [
    {
     "name": "stdout",
     "output_type": "stream",
     "text": [
      "[0.01811231 0.04519876 0.04519876 ... 7.95480124 7.95480124 7.98188769]\n"
     ]
    },
    {
     "data": {
      "image/png": "[encoded data removed]",
      "text/plain": [
       "<Figure size 432x288 with 1 Axes>"
      ]
     },
     "metadata": {
      "needs_background": "light"
     },
     "output_type": "display_data"
    }
   ],
   "source": [
    "import scipy.sparse as spsp\n",
    "import scipy.sparse.linalg as spsplin\n",
    "n = 32\n",
    "A = np.random.randn(n, n)\n",
    "A = A.T @ A + np.eye(n)\n",
    "\n",
    "L1d = spsp.spdiags((-1*np.ones(n), 2 * np.ones(n), -1*np.ones(n)), [-1, 0, 1], n, n)\n",
    "L2d = spsp.kronsum(L1d, L1d)\n",
    "plt.spy(L2d, markersize=1)\n",
    "A = L2d.toarray()\n",
    "# A = A + A.T\n",
    "# Q, _ = np.linalg.qr(A)\n",
    "# d = (np.random.rand(n) + 10) * 10\n",
    "# d[0] = 1\n",
    "# d[1] = 2\n",
    "# Lam = np.diag(d)\n",
    "# print(Lam.shape)\n",
    "# A = Q @ Lam @ Q.T\n",
    "true_spectrum = np.linalg.eigvalsh(A)\n",
    "print(np.sort(true_spectrum))\n",
    "x0 = np.random.randn(A.shape[0])\n",
    "num_iter = 40"
   ]
  },
  {
   "cell_type": "code",
   "execution_count": 96,
   "metadata": {
    "slideshow": {
     "slide_type": "slide"
    }
   },
   "outputs": [
    {
     "name": "stdout",
     "output_type": "stream",
     "text": [
      "0.01811230970766158\n",
      "0.01811230970766158\n"
     ]
    }
   ],
   "source": [
    "smallest_eigv, conv_sm = shift_inverse_iteration(A, x0, num_iter)\n",
    "print(smallest_eigv @ A @ smallest_eigv)\n",
    "smallest_eigv, conv_sm = shift_inverse_iteration_fast(A, x0, num_iter)\n",
    "print(smallest_eigv @ A @ smallest_eigv)\n",
    "\n",
    "# %timeit shift_inverse_iteration(A, x0, num_iter)\n",
    "# %timeit shift_inverse_iteration_fast(A, x0, num_iter)"
   ]
  },
  {
   "cell_type": "code",
   "execution_count": 97,
   "metadata": {
    "slideshow": {
     "slide_type": "slide"
    }
   },
   "outputs": [
    {
     "data": {
      "text/plain": [
       "[<matplotlib.lines.Line2D at 0x7fec26312810>]"
      ]
     },
     "execution_count": 97,
     "metadata": {},
     "output_type": "execute_result"
    },
    {
     "data": {
      "image/png": "[encoded data removed]",
      "text/plain": [
       "<Figure size 432x288 with 1 Axes>"
      ]
     },
     "metadata": {
      "needs_background": "light"
     },
     "output_type": "display_data"
    }
   ],
   "source": [
    "plt.semilogy([np.linalg.norm(A @ x - (x @ A @ x) * x) for x in conv_sm])"
   ]
  },
  {
   "cell_type": "code",
   "execution_count": 102,
   "metadata": {
    "slideshow": {
     "slide_type": "slide"
    }
   },
   "outputs": [
    {
     "name": "stdout",
     "output_type": "stream",
     "text": [
      "6.992228493059952\n"
     ]
    }
   ],
   "source": [
    "shift = 7\n",
    "middle_eigv, conv_m = shift_inverse_iteration_fast(A, x0, num_iter, shift)\n",
    "print(middle_eigv @ A @ middle_eigv)"
   ]
  },
  {
   "cell_type": "code",
   "execution_count": 103,
   "metadata": {
    "slideshow": {
     "slide_type": "slide"
    }
   },
   "outputs": [
    {
     "data": {
      "text/plain": [
       "[<matplotlib.lines.Line2D at 0x7fec24a8d410>]"
      ]
     },
     "execution_count": 103,
     "metadata": {},
     "output_type": "execute_result"
    },
    {
     "data": {
      "image/png": "[encoded data removed]",
      "text/plain": [
       "<Figure size 432x288 with 1 Axes>"
      ]
     },
     "metadata": {
      "needs_background": "light"
     },
     "output_type": "display_data"
    }
   ],
   "source": [
    "plt.semilogy([np.linalg.norm(A @ x - (x @ A @ x) * x) for x in conv_m])"
   ]
  },
  {
   "cell_type": "code",
   "execution_count": 104,
   "metadata": {
    "slideshow": {
     "slide_type": "slide"
    }
   },
   "outputs": [
    {
     "name": "stdout",
     "output_type": "stream",
     "text": [
      "6.992228493059952\n"
     ]
    }
   ],
   "source": [
    "shift = 7\n",
    "large_eigv, conv_l = shift_inverse_iteration(A, x0, num_iter, shift)\n",
    "print(large_eigv @ A @ large_eigv)"
   ]
  },
  {
   "cell_type": "code",
   "execution_count": 105,
   "metadata": {
    "slideshow": {
     "slide_type": "slide"
    }
   },
   "outputs": [
    {
     "data": {
      "text/plain": [
       "[<matplotlib.lines.Line2D at 0x7fec0e835110>]"
      ]
     },
     "execution_count": 105,
     "metadata": {},
     "output_type": "execute_result"
    },
    {
     "data": {
      "image/png": "[encoded data removed]",
      "text/plain": [
       "<Figure size 432x288 with 1 Axes>"
      ]
     },
     "metadata": {
      "needs_background": "light"
     },
     "output_type": "display_data"
    }
   ],
   "source": [
    "res = np.array([np.linalg.norm(A @ x - (x @ A @ x) * x) for x in conv_l])\n",
    "plt.semilogy(res)"
   ]
  },
  {
   "cell_type": "markdown",
   "metadata": {
    "slideshow": {
     "slide_type": "slide"
    }
   },
   "source": [
    "## Метод Релея\n",
    "\n",
    "- Адаптивный сдвиг на каждой итерации\n",
    "\n",
    "$$ \\sigma_k = \\frac{(Ax_k, x_k)}{(x_k, x_k)} $$"
   ]
  },
  {
   "cell_type": "code",
   "execution_count": 106,
   "metadata": {
    "slideshow": {
     "slide_type": "slide"
    }
   },
   "outputs": [],
   "source": [
    "def rayleigh_quotient_iteration(A, x0, num_iter, shift):\n",
    "    x = x0.copy()\n",
    "    x = x / np.linalg.norm(x)\n",
    "    conv = [x]\n",
    "    n = A.shape[0]\n",
    "    for i in range(1):\n",
    "        x = np.linalg.solve(A - shift * np.eye(n), x)\n",
    "        x = x / np.linalg.norm(x)\n",
    "        conv.append(x)\n",
    "        \n",
    "    for i in range(num_iter):\n",
    "        lam = x @ A @ x\n",
    "        x = np.linalg.solve(A - lam * np.eye(n), x)\n",
    "        x = x / np.linalg.norm(x)\n",
    "        conv.append(x)\n",
    "    return x, conv"
   ]
  },
  {
   "cell_type": "code",
   "execution_count": 110,
   "metadata": {
    "slideshow": {
     "slide_type": "slide"
    }
   },
   "outputs": [],
   "source": [
    "eigv_rq, conv_rq = rayleigh_quotient_iteration(A, x0, num_iter, 7.)"
   ]
  },
  {
   "cell_type": "code",
   "execution_count": 111,
   "metadata": {
    "slideshow": {
     "slide_type": "slide"
    }
   },
   "outputs": [
    {
     "name": "stdout",
     "output_type": "stream",
     "text": [
      "6.992228533552932\n",
      "[0.01811231 0.04519876 0.04519876 ... 7.95480124 7.95480124 7.98188769]\n",
      "[ 0.25665493 -1.23724391  1.60446583 ...  0.24743374 -0.29562927\n",
      "  1.14999884]\n"
     ]
    }
   ],
   "source": [
    "print(eigv_rq @ A @ eigv_rq)\n",
    "print(np.sort(np.linalg.eigvalsh(A)))\n",
    "print(x0)"
   ]
  },
  {
   "cell_type": "code",
   "execution_count": 112,
   "metadata": {
    "slideshow": {
     "slide_type": "slide"
    }
   },
   "outputs": [
    {
     "name": "stdout",
     "output_type": "stream",
     "text": [
      "[1.89789243e+00 1.21314070e-01 1.32531566e-04 8.11727899e-07\n",
      " 3.23598523e-13 2.40727774e-15 2.27862475e-15 3.17035131e-15\n",
      " 1.77829958e-15 2.01790993e-15 1.77494928e-15 1.56757314e-15\n",
      " 1.60813439e-15 1.52801119e-15 1.61379221e-15 1.59361975e-15\n",
      " 1.62471396e-15 1.70191047e-15 2.30138098e-15 1.50819493e-15\n",
      " 1.52370035e-15 1.52846982e-15 1.81663206e-15 1.74373134e-15\n",
      " 1.90911123e-15 1.57494886e-15 3.20245019e-15 1.53502909e-15\n",
      " 1.87027368e-15 1.64262216e-15 1.86028201e-15 1.63206942e-15\n",
      " 2.32600653e-15 3.18078087e-15 1.89426563e-15 1.78238821e-15\n",
      " 1.67673786e-15 1.90365873e-15 1.54222803e-15 1.56701285e-15\n",
      " 1.63213639e-15 1.55712700e-15]\n"
     ]
    },
    {
     "data": {
      "image/png": "[encoded data removed]",
      "text/plain": [
       "<Figure size 432x288 with 1 Axes>"
      ]
     },
     "metadata": {
      "needs_background": "light"
     },
     "output_type": "display_data"
    }
   ],
   "source": [
    "res = np.array([np.linalg.norm(A @ x - (x @ A @ x) * x) for x in conv_rq])\n",
    "plt.semilogy(res, label=\"RQ\")\n",
    "plt.semilogy([np.linalg.norm(A @ x - (x @ A @ x) * x) for x in conv_l], label=\"Shift iter\")\n",
    "plt.legend()\n",
    "print(res)"
   ]
  },
  {
   "cell_type": "markdown",
   "metadata": {
    "slideshow": {
     "slide_type": "slide"
    }
   },
   "source": [
    "## Как найти другие собственные значения?\n",
    "\n"
   ]
  },
  {
   "cell_type": "code",
   "execution_count": 113,
   "metadata": {
    "scrolled": true,
    "slideshow": {
     "slide_type": "slide"
    }
   },
   "outputs": [
    {
     "name": "stdout",
     "output_type": "stream",
     "text": [
      "[0.         0.01811231 0.04519876 ... 7.95480124 7.95480124 7.98188769]\n"
     ]
    }
   ],
   "source": [
    "B = A - eigv_rq @ (A @ eigv_rq) * np.outer(eigv_rq, eigv_rq)\n",
    "print(np.sort(np.linalg.eigvals(B)))"
   ]
  },
  {
   "cell_type": "code",
   "execution_count": 115,
   "metadata": {
    "slideshow": {
     "slide_type": "slide"
    }
   },
   "outputs": [
    {
     "name": "stdout",
     "output_type": "stream",
     "text": [
      "6.992228533552932\n"
     ]
    }
   ],
   "source": [
    "eigv_rq_B, conv_rq_B = rayleigh_quotient_iteration(B, x0, num_iter, 7.)\n",
    "print(eigv_rq_B @ B @ eigv_rq_B)"
   ]
  },
  {
   "cell_type": "code",
   "execution_count": 116,
   "metadata": {
    "slideshow": {
     "slide_type": "slide"
    }
   },
   "outputs": [
    {
     "name": "stdout",
     "output_type": "stream",
     "text": [
      "[1.20120895e-14+0.j 1.24344979e-14+0.j 1.81123097e-02+0.j ...\n",
      " 7.95480124e+00+0.j 7.95480124e+00+0.j 7.98188769e+00+0.j]\n"
     ]
    }
   ],
   "source": [
    "C = B - eigv_rq_B @ (A @ eigv_rq_B) * np.outer(eigv_rq_B, eigv_rq_B)\n",
    "print(np.sort(np.linalg.eigvals(C)))"
   ]
  },
  {
   "cell_type": "code",
   "execution_count": 117,
   "metadata": {
    "slideshow": {
     "slide_type": "slide"
    }
   },
   "outputs": [
    {
     "name": "stdout",
     "output_type": "stream",
     "text": [
      "6.9909438451461705\n"
     ]
    }
   ],
   "source": [
    "eigv_rq_C, conv_rq_C = rayleigh_quotient_iteration(C, x0, num_iter, 7.)\n",
    "print(eigv_rq_C @ C @ eigv_rq_C)"
   ]
  },
  {
   "cell_type": "markdown",
   "metadata": {
    "slideshow": {
     "slide_type": "slide"
    }
   },
   "source": [
    "### И так далее для других собственных векторов....\n",
    "\n",
    "- Какая правильная стратегия использования метода Релея?"
   ]
  },
  {
   "cell_type": "markdown",
   "metadata": {
    "slideshow": {
     "slide_type": "slide"
    }
   },
   "source": [
    "## Матричные функции: введение"
   ]
  },
  {
   "cell_type": "markdown",
   "metadata": {
    "slideshow": {
     "slide_type": "slide"
    }
   },
   "source": [
    "\n",
    "$$ B = f(A) = \\sum_{k=0}^{\\infty} c_k A^k$$\n",
    "\n",
    "- Это не поэлементная функция\n",
    "- Нужно уметь вычислять ряд\n",
    "- Устойчивость"
   ]
  },
  {
   "cell_type": "markdown",
   "metadata": {
    "slideshow": {
     "slide_type": "slide"
    }
   },
   "source": [
    "## Вычисление степени матрицы\n",
    "\n",
    "- Дана матрица $A$\n",
    "- Нужно вычислить $A^k$\n",
    "- Это необходимо при вычисление матричных функций, которые представляются в виде матричного ряда"
   ]
  },
  {
   "cell_type": "markdown",
   "metadata": {
    "slideshow": {
     "slide_type": "slide"
    }
   },
   "source": [
    "### Используем спектральное разложение\n",
    "\n",
    "- $A = U\\Lambda U^{-1}$\n",
    "- Тогда $A^k = U \\Lambda^k U^{-1}$"
   ]
  },
  {
   "cell_type": "markdown",
   "metadata": {
    "slideshow": {
     "slide_type": "slide"
    }
   },
   "source": [
    "### Матричная экспонента: знакомство или напоминание\n",
    "\n",
    "$$\\exp(A) = \\sum_{k=0}^{\\infty} \\frac{A^k}{k!} $$\n",
    "\n",
    "- Про матричные функции будет отдельное занятие!\n",
    "- Важно! Чаще нужно не само значение матричной экспоненты, а результат её умножения на некоторый вектор $v$: \n",
    "\n",
    "$$ \\exp(A)v $$\n",
    "\n",
    "- Это позволяет разработать быстрые методы для вычисления произведения, не считая саму матричную экспоненту!"
   ]
  },
  {
   "cell_type": "code",
   "execution_count": 60,
   "metadata": {
    "slideshow": {
     "slide_type": "slide"
    }
   },
   "outputs": [
    {
     "name": "stdout",
     "output_type": "stream",
     "text": [
      "72.9093498873854\n"
     ]
    }
   ],
   "source": [
    "import numpy as np\n",
    "import scipy.linalg as splin\n",
    "import matplotlib.pyplot as plt\n",
    "plt.rc(\"text\", usetex=True)\n",
    "%matplotlib inline \n",
    "\n",
    "n = 50\n",
    "A = np.random.randn(n, n)\n",
    "A = A + A.T\n",
    "print(np.linalg.norm(A))\n",
    "expA = splin.expm(A)\n",
    "# print(expA.round(4))"
   ]
  },
  {
   "cell_type": "code",
   "execution_count": 61,
   "metadata": {
    "slideshow": {
     "slide_type": "slide"
    }
   },
   "outputs": [],
   "source": [
    "def qr_algorithm(A, num_iter, eps):\n",
    "    T = A.copy()\n",
    "    U = np.eye(A.shape[0])\n",
    "    conv = [(T, U)]\n",
    "    for i in range(num_iter):\n",
    "        Q, R = np.linalg.qr(T)\n",
    "        T = R @ Q\n",
    "        U = U @ Q\n",
    "        conv.append((T, U))\n",
    "        if np.sum(np.abs(np.tril(T, k=-1))) < eps:\n",
    "            break\n",
    "    return T, U, conv[1:]"
   ]
  },
  {
   "cell_type": "code",
   "execution_count": 62,
   "metadata": {
    "slideshow": {
     "slide_type": "slide"
    }
   },
   "outputs": [
    {
     "name": "stdout",
     "output_type": "stream",
     "text": [
      "5.017469844366763e-12\n"
     ]
    }
   ],
   "source": [
    "T, U, conv = qr_algorithm(A, 4000, 1e-6)\n",
    "print(np.linalg.norm(A - U @ T @ U.T))"
   ]
  },
  {
   "cell_type": "code",
   "execution_count": 64,
   "metadata": {
    "slideshow": {
     "slide_type": "slide"
    }
   },
   "outputs": [
    {
     "data": {
      "text/plain": [
       "<matplotlib.lines.Line2D at 0x7fdca3f6ee10>"
      ]
     },
     "execution_count": 64,
     "metadata": {},
     "output_type": "execute_result"
    },
    {
     "data": {
      "image/png": "[encoded data removed]",
      "text/plain": [
       "<Figure size 432x288 with 1 Axes>"
      ]
     },
     "metadata": {
      "needs_background": "light"
     },
     "output_type": "display_data"
    }
   ],
   "source": [
    "plt.spy(T, markersize=1, precision=1e-6)"
   ]
  },
  {
   "cell_type": "code",
   "execution_count": 66,
   "metadata": {
    "slideshow": {
     "slide_type": "slide"
    }
   },
   "outputs": [
    {
     "name": "stdout",
     "output_type": "stream",
     "text": [
      "1.459217787080334e-11\n"
     ]
    }
   ],
   "source": [
    "cur_term = np.eye(n)\n",
    "expA_approx = np.eye(n)\n",
    "K = 200\n",
    "denom = 1.\n",
    "conv = [expA_approx]\n",
    "for i in range(1, K):\n",
    "    denom = denom * i\n",
    "    cur_term = U @ T**i @ U.T / denom\n",
    "    expA_approx = expA_approx + cur_term\n",
    "    conv.append(expA_approx)\n",
    "# print(expA_approx.round(4))\n",
    "print(np.linalg.norm(expA_approx - expA) / np.linalg.norm(expA))"
   ]
  },
  {
   "cell_type": "code",
   "execution_count": 67,
   "metadata": {
    "slideshow": {
     "slide_type": "slide"
    }
   },
   "outputs": [
    {
     "data": {
      "image/png": "[encoded data removed]",
      "text/plain": [
       "<Figure size 720x504 with 1 Axes>"
      ]
     },
     "metadata": {
      "needs_background": "light"
     },
     "output_type": "display_data"
    }
   ],
   "source": [
    "plt.figure(figsize=(10, 7))\n",
    "plt.plot([np.linalg.norm(expA - approx, \"fro\") / np.linalg.norm(expA) for approx in conv])\n",
    "plt.yscale(\"log\")\n",
    "plt.xticks(fontsize=20)\n",
    "plt.yticks(fontsize=20)\n",
    "plt.xlabel(\"\\# iterations, $k$\", fontsize=20)\n",
    "plt.ylabel(\"$\\|\\exp(A) - S_k \\|_F / \\|\\exp(A)\\|_F$\", fontsize=20)\n",
    "plt.grid(True)"
   ]
  },
  {
   "cell_type": "code",
   "execution_count": 72,
   "metadata": {
    "slideshow": {
     "slide_type": "slide"
    }
   },
   "outputs": [
    {
     "name": "stdout",
     "output_type": "stream",
     "text": [
      "1.45921858916028e-11\n"
     ]
    }
   ],
   "source": [
    "import scipy.special as spspec\n",
    "expA_approx = np.zeros((n, n))\n",
    "K = 200\n",
    "denom = 1.\n",
    "conv = [expA_approx]\n",
    "for i in range(K - 1, 0, -1):\n",
    "    cur_term = U @ T**i @ U.T / spspec.factorial(i)\n",
    "    expA_approx = expA_approx + cur_term\n",
    "    conv.append(expA_approx)\n",
    "expA_approx = expA_approx + np.eye(n)\n",
    "# print(expA_approx.round(4))\n",
    "print(np.linalg.norm(expA_approx - expA) / np.linalg.norm(expA))"
   ]
  },
  {
   "cell_type": "code",
   "execution_count": 71,
   "metadata": {
    "slideshow": {
     "slide_type": "slide"
    }
   },
   "outputs": [
    {
     "data": {
      "image/png": "[encoded data removed]",
      "text/plain": [
       "<Figure size 720x504 with 1 Axes>"
      ]
     },
     "metadata": {
      "needs_background": "light"
     },
     "output_type": "display_data"
    }
   ],
   "source": [
    "plt.figure(figsize=(10, 7))\n",
    "plt.plot([np.linalg.norm(expA - approx, \"fro\") / np.linalg.norm(expA) for approx in conv])\n",
    "plt.yscale(\"log\")\n",
    "plt.xticks(fontsize=20)\n",
    "plt.yticks(fontsize=20)\n",
    "plt.xlabel(\"\\# iterations, $k$\", fontsize=20)\n",
    "plt.ylabel(\"$\\|\\exp(A) - S_k \\|_F / \\|\\exp(A)\\|_F$\", fontsize=20)\n",
    "plt.grid(True)"
   ]
  },
  {
   "cell_type": "markdown",
   "metadata": {
    "slideshow": {
     "slide_type": "slide"
    }
   },
   "source": [
    "## Главное по семинару\n",
    "\n",
    "- Сдвиги и ускорение методов поиска собственных значений\n",
    "- Метод Релея\n",
    "- Матричные функции для плотных матриц"
   ]
  }
 ],
 "metadata": {
  "celltoolbar": "Slideshow",
  "kernelspec": {
   "display_name": "Python 3",
   "language": "python",
   "name": "python3"
  },
  "language_info": {
   "codemirror_mode": {
    "name": "ipython",
    "version": 3
   },
   "file_extension": ".py",
   "mimetype": "text/x-python",
   "name": "python",
   "nbconvert_exporter": "python",
   "pygments_lexer": "ipython3",
   "version": "3.7.7"
  }
 },
 "nbformat": 4,
 "nbformat_minor": 4
}
