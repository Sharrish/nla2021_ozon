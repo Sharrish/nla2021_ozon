{
 "cells": [
  {
   "cell_type": "code",
   "execution_count": 3,
   "metadata": {},
   "outputs": [],
   "source": [
    "import numpy as np"
   ]
  },
  {
   "cell_type": "markdown",
   "metadata": {},
   "source": [
    "## Проверим унитарную инвариантность некоторых матричных норм"
   ]
  },
  {
   "cell_type": "code",
   "execution_count": 60,
   "metadata": {},
   "outputs": [],
   "source": [
    "n, m = 100, 10\n",
    "A = np.random.randn(n, m)"
   ]
  },
  {
   "cell_type": "code",
   "execution_count": 61,
   "metadata": {},
   "outputs": [],
   "source": [
    "Q, _ = np.linalg.qr(A)"
   ]
  },
  {
   "cell_type": "code",
   "execution_count": 62,
   "metadata": {},
   "outputs": [
    {
     "data": {
      "text/plain": [
       "(100, 10)"
      ]
     },
     "execution_count": 62,
     "metadata": {},
     "output_type": "execute_result"
    }
   ],
   "source": [
    "Q.shape"
   ]
  },
  {
   "cell_type": "code",
   "execution_count": 63,
   "metadata": {},
   "outputs": [
    {
     "data": {
      "text/plain": [
       "6.868433711681044e-16"
      ]
     },
     "execution_count": 63,
     "metadata": {},
     "output_type": "execute_result"
    }
   ],
   "source": [
    "np.linalg.norm(Q.T @ Q - np.eye(m))"
   ]
  },
  {
   "cell_type": "code",
   "execution_count": 65,
   "metadata": {},
   "outputs": [
    {
     "name": "stdout",
     "output_type": "stream",
     "text": [
      "45.153942097406244\n",
      "45.15394209740624\n"
     ]
    }
   ],
   "source": [
    "A = np.random.randn(10, 200)\n",
    "print(np.linalg.norm(A))\n",
    "print(np.linalg.norm(Q @ A))"
   ]
  },
  {
   "cell_type": "markdown",
   "metadata": {},
   "source": [
    "## Убедимся в эффективности умножения на матрицу Хаусхолдера за линейное время"
   ]
  },
  {
   "cell_type": "code",
   "execution_count": 66,
   "metadata": {},
   "outputs": [],
   "source": [
    "def householder_matvec(v, x):\n",
    "    return x - 2 * v * (v @ x)\n"
   ]
  },
  {
   "cell_type": "code",
   "execution_count": 67,
   "metadata": {},
   "outputs": [
    {
     "name": "stdout",
     "output_type": "stream",
     "text": [
      "6.57 µs ± 185 ns per loop (mean ± std. dev. of 7 runs, 100000 loops each)\n",
      "5.9 ms ± 290 µs per loop (mean ± std. dev. of 7 runs, 100 loops each)\n"
     ]
    }
   ],
   "source": [
    "n = 1000\n",
    "v = np.random.randn(n)\n",
    "v = v / np.linalg.norm(v)\n",
    "x = np.random.randn(n)\n",
    "%timeit householder_matvec(v, x)\n",
    "%timeit (np.eye(n) - 2 * np.outer(v, v))  @ x"
   ]
  },
  {
   "cell_type": "markdown",
   "metadata": {},
   "source": [
    "## Проверим, что матрица Хаусхолдера, построенная по теореме, действительно зануляет все элементы вектора кроме первого"
   ]
  },
  {
   "cell_type": "code",
   "execution_count": 71,
   "metadata": {},
   "outputs": [
    {
     "data": {
      "text/plain": [
       "array([ 0.12411776, -1.29628581, -1.87237503, -1.16096815,  0.15905101])"
      ]
     },
     "execution_count": 71,
     "metadata": {},
     "output_type": "execute_result"
    }
   ],
   "source": [
    "x = np.random.randn(5)\n",
    "x"
   ]
  },
  {
   "cell_type": "code",
   "execution_count": 91,
   "metadata": {},
   "outputs": [
    {
     "name": "stdout",
     "output_type": "stream",
     "text": [
      "1.0\n",
      "[ 0.68978052  0.36645618  0.52931491  0.32820228 -0.04496325]\n"
     ]
    },
    {
     "data": {
      "text/plain": [
       "array([ 2.56411674e+00, -2.22044605e-16,  0.00000000e+00, -2.22044605e-16,\n",
       "        2.77555756e-17])"
      ]
     },
     "execution_count": 91,
     "metadata": {},
     "output_type": "execute_result"
    }
   ],
   "source": [
    "e1 = np.zeros(5)\n",
    "e1[0] = 1.\n",
    "\n",
    "v = (x - e1 * np.linalg.norm(x)) / (-np.sqrt(2 * (x @ x - x[0] * np.linalg.norm(x))))\n",
    "# print(v, -v, (x + e1 * np.linalg.norm(x)) / (np.sqrt(2 * (x @ x - x[0] * np.linalg.norm(x)))))\n",
    "print(v @ v)\n",
    "print(v)\n",
    "householder_matvec(v, x)"
   ]
  }
 ],
 "metadata": {
  "kernelspec": {
   "display_name": "Python 3",
   "language": "python",
   "name": "python3"
  },
  "language_info": {
   "codemirror_mode": {
    "name": "ipython",
    "version": 3
   },
   "file_extension": ".py",
   "mimetype": "text/x-python",
   "name": "python",
   "nbconvert_exporter": "python",
   "pygments_lexer": "ipython3",
   "version": "3.7.7"
  }
 },
 "nbformat": 4,
 "nbformat_minor": 4
}
