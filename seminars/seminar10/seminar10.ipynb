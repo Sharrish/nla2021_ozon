{
 "cells": [
  {
   "cell_type": "markdown",
   "metadata": {
    "slideshow": {
     "slide_type": "slide"
    }
   },
   "source": [
    "# Семинар 10\n",
    "\n",
    "# Введение в итерационные методы"
   ]
  },
  {
   "cell_type": "markdown",
   "metadata": {
    "slideshow": {
     "slide_type": "slide"
    }
   },
   "source": [
    "## Оптимальный шаг в методе Ричардсона\n",
    "\n",
    "- Решение линейной системы \n",
    "\n",
    "$$ Ax = b $$\n",
    "\n",
    "- Метод Ричардсона \n",
    "\n",
    "$$ x_{k+1} = x_k - \\tau (Ax_k - b) = (I - \\tau A)x_k + \\tau b$$\n",
    "\n",
    "- Оптимальный $\\tau$ для $A = A^* \\succ 0$\n",
    "\n",
    "$$ \\tau^* = \\frac{2}{\\lambda_{\\max} + \\lambda_{\\min}} $$"
   ]
  },
  {
   "cell_type": "markdown",
   "metadata": {
    "slideshow": {
     "slide_type": "slide"
    }
   },
   "source": [
    "#### Как его получить?\n",
    "\n",
    "- Найдём минимум $\\| I - \\tau A \\|_2 = \\lambda_{\\max}(I - \\tau A) = \\max (|1 - \\tau \\lambda_{\\max}(A)|, |1 - \\tau \\lambda_{\\min} (A)|)$\n",
    "- Две \"v\" образные функции\n",
    "- Нарисуем функцию максимум от них\n",
    "- Минимум максимума – это точка в которое они равны!\n",
    "- $1 - \\tau^* \\lambda_{\\max}(A) = -1 + \\tau^* \\lambda_{\\min}(A)$\n",
    "- Получаем ответ!"
   ]
  },
  {
   "cell_type": "code",
   "execution_count": 67,
   "metadata": {
    "slideshow": {
     "slide_type": "slide"
    }
   },
   "outputs": [
    {
     "name": "stdout",
     "output_type": "stream",
     "text": [
      "61154.33661951012\n"
     ]
    }
   ],
   "source": [
    "import numpy as np\n",
    "import matplotlib.pyplot as plt\n",
    "n = 50\n",
    "A = np.random.randn(n, n)\n",
    "A = A.T @ A\n",
    "print(np.linalg.cond(A))\n",
    "x_true = np.random.randn(n)\n",
    "b = A @ x_true\n",
    "\n",
    "# x0 = np.zeros(n)\n",
    "x0 = np.random.randn(n) \n",
    "\n",
    "def rich(A, b, x0, num_iter, tau):\n",
    "    res = [1.,]\n",
    "    x = x0.copy()\n",
    "    for i in range(num_iter):\n",
    "        x = x - tau * (A @ x - b)\n",
    "        res.append(np.linalg.norm(A @ x - b) / np.linalg.norm(b))\n",
    "    return x, res\n",
    "    "
   ]
  },
  {
   "cell_type": "code",
   "execution_count": 76,
   "metadata": {
    "slideshow": {
     "slide_type": "slide"
    }
   },
   "outputs": [
    {
     "name": "stdout",
     "output_type": "stream",
     "text": [
      "0.005401166896508693\n",
      "0.010802333793017385\n"
     ]
    }
   ],
   "source": [
    "sp = np.linalg.eigvalsh(A)\n",
    "tau_star = 1. / (sp.max() + sp.min())\n",
    "print(tau_star)\n",
    "tau_star_eps = 2. / (sp.max() + sp.min())\n",
    "print(tau_star_eps)\n",
    "num_iter = 90000\n",
    "x_star, res_star = rich(A, b, x0, num_iter, tau_star)\n",
    "x_star_eps, res_star_eps = rich(A, b, x0, num_iter, tau_star_eps)"
   ]
  },
  {
   "cell_type": "code",
   "execution_count": 77,
   "metadata": {
    "slideshow": {
     "slide_type": "slide"
    }
   },
   "outputs": [
    {
     "data": {
      "text/plain": [
       "<matplotlib.legend.Legend at 0x7fab066acbd0>"
      ]
     },
     "execution_count": 77,
     "metadata": {},
     "output_type": "execute_result"
    },
    {
     "data": {
      "image/png": "[encoded data removed]",
      "text/plain": [
       "<Figure size 432x288 with 1 Axes>"
      ]
     },
     "metadata": {
      "needs_background": "light"
     },
     "output_type": "display_data"
    }
   ],
   "source": [
    "plt.semilogy(res_star, label=\"Star\")\n",
    "plt.semilogy(res_star_eps, label=\"Star eps\")\n",
    "plt.legend()"
   ]
  },
  {
   "cell_type": "markdown",
   "metadata": {
    "slideshow": {
     "slide_type": "slide"
    }
   },
   "source": [
    "## Метод сопряжённых градиентов: напоминание\n",
    "\n",
    "- Главный метод решения большой разреженной линейной системы с симметричной положительно-определённой матрицей\n",
    "- Требует знания процедуры умножения матрицы на вектор\n",
    "- Чувствителен к кластеризации спектра – чем менее равномерен спектр, тем лучше сходимость"
   ]
  },
  {
   "cell_type": "code",
   "execution_count": 108,
   "metadata": {
    "slideshow": {
     "slide_type": "slide"
    }
   },
   "outputs": [
    {
     "name": "stdout",
     "output_type": "stream",
     "text": [
      "A is normal matrix: ||AA* - A*A|| = 0.0\n",
      "Condition number = 4.492167979846466e+20\n"
     ]
    }
   ],
   "source": [
    "import numpy as np\n",
    "import matplotlib.pyplot as plt\n",
    "%matplotlib inline\n",
    "n = 120\n",
    "\n",
    "\n",
    "# Random\n",
    "# A = np.random.randn(n, n)\n",
    "# mu = 1\n",
    "# A = A.T.dot(A) + mu * np.eye(n)\n",
    "\n",
    "# Clustered eigenvalues\n",
    "# A = np.diagflat([np.ones(n//4), 10 * np.ones(n//4), 100*np.ones(n//4), 1000* np.ones(n//4)])\n",
    "# U = np.random.rand(n, n)\n",
    "# Q, _ = np.linalg.qr(U)\n",
    "# A = Q.dot(A).dot(Q.T)\n",
    "\n",
    "# A = (A + A.T) * 0.5\n",
    "print(\"A is normal matrix: ||AA* - A*A|| =\", np.linalg.norm(A.dot(A.T) - A.T.dot(A)))\n",
    "print(\"Condition number = {}\".format(np.linalg.cond(A)))\n",
    "\n",
    "b = np.random.randn(n)\n",
    "# _, eigvec = np.linalg.eigh(A)\n",
    "# b = eigvec[:, 0]\n",
    "\n",
    "\n",
    "# Hilbert matrix\n",
    "A = np.array([[1.0 / (i+j - 1) for i in range(1, n+1)] for j in range(1, n+1)])\n",
    "b = np.ones(n)"
   ]
  },
  {
   "cell_type": "code",
   "execution_count": 109,
   "metadata": {
    "scrolled": true,
    "slideshow": {
     "slide_type": "slide"
    }
   },
   "outputs": [
    {
     "name": "stderr",
     "output_type": "stream",
     "text": [
      "/Users/alex/anaconda3/lib/python3.7/site-packages/numpy/core/_asarray.py:83: ComplexWarning: Casting complex values to real discards the imaginary part\n",
      "  return array(a, dtype, copy=False, order=order)\n"
     ]
    },
    {
     "data": {
      "image/png": "[encoded data removed]",
      "text/plain": [
       "<Figure size 432x288 with 1 Axes>"
      ]
     },
     "metadata": {
      "needs_background": "light"
     },
     "output_type": "display_data"
    }
   ],
   "source": [
    "eigs = np.linalg.eigvals(A)\n",
    "# print(eigs)\n",
    "plt.semilogy(np.unique(eigs))\n",
    "plt.ylabel(\"Eigenvalues\", fontsize=20)\n",
    "plt.xticks(fontsize=18)\n",
    "_ = plt.yticks(fontsize=18)"
   ]
  },
  {
   "cell_type": "code",
   "execution_count": 115,
   "metadata": {
    "slideshow": {
     "slide_type": "slide"
    }
   },
   "outputs": [
    {
     "name": "stdout",
     "output_type": "stream",
     "text": [
      "0.0013284696939541987\n",
      "120\n",
      "120\n",
      "5.22552938325493e-06\n"
     ]
    }
   ],
   "source": [
    "import scipy.sparse.linalg as spsplin\n",
    "res_hist = []\n",
    "def callback(x):\n",
    "    res_hist.append(np.linalg.norm(A @ x - b) / np.linalg.norm(b))\n",
    "    \n",
    "x, info = spsplin.cg(A, b, maxiter=n, tol=1e-10, callback=callback)\n",
    "print(np.linalg.norm(A @ x - b))\n",
    "print(info)\n",
    "print(len(res_hist))\n",
    "x_lu = np.linalg.solve(A, b)\n",
    "print(np.linalg.norm(A @ x_lu - b))\n",
    "\n",
    "# %timeit spsplin.cg(A, b, maxiter=n, tol=1e-10)\n",
    "# %timeit np.linalg.solve(A, b)\n",
    "# print(np.log(1e-5/2) / np.log(19/21))"
   ]
  },
  {
   "cell_type": "code",
   "execution_count": 116,
   "metadata": {
    "scrolled": true,
    "slideshow": {
     "slide_type": "slide"
    }
   },
   "outputs": [
    {
     "data": {
      "text/plain": [
       "[<matplotlib.lines.Line2D at 0x7faaf8aebbd0>]"
      ]
     },
     "execution_count": 116,
     "metadata": {},
     "output_type": "execute_result"
    },
    {
     "data": {
      "image/png": "[encoded data removed]",
      "text/plain": [
       "<Figure size 432x288 with 1 Axes>"
      ]
     },
     "metadata": {
      "needs_background": "light"
     },
     "output_type": "display_data"
    }
   ],
   "source": [
    "plt.semilogy(res_hist, marker=\"x\")\n",
    "# print(len(res_hist), res_hist)"
   ]
  },
  {
   "cell_type": "markdown",
   "metadata": {
    "slideshow": {
     "slide_type": "slide"
    }
   },
   "source": [
    "## Регуляризация задачи наименьших квадратов\n",
    "\n",
    "$$ \\| Ax - b \\|_2^2 + \\lambda \\|x\\|_2^2 \\to \\min_x $$ \n",
    "\n",
    "- Решение записывается аналогично\n",
    "\n",
    "$$ (A^{\\top}A + \\lambda I)x = A^{\\top}b $$\n",
    "\n",
    "- Каким свойством теперь обладает матрица по сравнению с исходной постановкой без регуляризации?"
   ]
  },
  {
   "cell_type": "code",
   "execution_count": 117,
   "metadata": {
    "slideshow": {
     "slide_type": "slide"
    }
   },
   "outputs": [],
   "source": [
    "m, n = 1000, 100\n",
    "A = np.random.randn(m, n)\n",
    "x_true = np.random.randn(n)\n",
    "b = A @ x_true + 0.01 * np.random.randn(m)"
   ]
  },
  {
   "cell_type": "code",
   "execution_count": 119,
   "metadata": {
    "slideshow": {
     "slide_type": "slide"
    }
   },
   "outputs": [
    {
     "name": "stdout",
     "output_type": "stream",
     "text": [
      "110.63975325915104\n"
     ]
    }
   ],
   "source": [
    "lam = 1\n",
    "x = spsplin.lsmr(A, b, damp=lam)[0]\n",
    "print(np.linalg.norm(A @ x - b)**2 + lam * x @ x)"
   ]
  },
  {
   "cell_type": "code",
   "execution_count": 121,
   "metadata": {
    "slideshow": {
     "slide_type": "slide"
    }
   },
   "outputs": [
    {
     "name": "stdout",
     "output_type": "stream",
     "text": [
      "10\n",
      "110.6397595208627\n"
     ]
    }
   ],
   "source": [
    "lin_op = spsplin.LinearOperator((n, n), \n",
    "        matvec=lambda x: lam * x + A.T @ (A @ x))\n",
    "\n",
    "rhs = A.T @ b \n",
    "res_hist = []\n",
    "def callback(x):\n",
    "    res_hist.append(np.linalg.norm(A.T @ (A @ x) + lam * x - rhs) / np.linalg.norm(rhs))\n",
    "    \n",
    "x_cg, _ = spsplin.cg(lin_op, rhs, callback=callback)\n",
    "print(len(res_hist))\n",
    "print(np.linalg.norm(A @ x_cg - b)**2 + lam * np.linalg.norm(x_cg)**2)"
   ]
  },
  {
   "cell_type": "code",
   "execution_count": 122,
   "metadata": {
    "slideshow": {
     "slide_type": "slide"
    }
   },
   "outputs": [
    {
     "data": {
      "text/plain": [
       "[<matplotlib.lines.Line2D at 0x7faaf4deb350>]"
      ]
     },
     "execution_count": 122,
     "metadata": {},
     "output_type": "execute_result"
    },
    {
     "data": {
      "image/png": "[encoded data removed]",
      "text/plain": [
       "<Figure size 432x288 with 1 Axes>"
      ]
     },
     "metadata": {
      "needs_background": "light"
     },
     "output_type": "display_data"
    }
   ],
   "source": [
    "plt.semilogy(res_hist)"
   ]
  }
 ],
 "metadata": {
  "celltoolbar": "Slideshow",
  "kernelspec": {
   "display_name": "Python 3",
   "language": "python",
   "name": "python3"
  },
  "language_info": {
   "codemirror_mode": {
    "name": "ipython",
    "version": 3
   },
   "file_extension": ".py",
   "mimetype": "text/x-python",
   "name": "python",
   "nbconvert_exporter": "python",
   "pygments_lexer": "ipython3",
   "version": "3.7.7"
  }
 },
 "nbformat": 4,
 "nbformat_minor": 2
}
